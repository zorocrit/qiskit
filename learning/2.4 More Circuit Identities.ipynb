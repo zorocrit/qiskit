{
 "cells": [
  {
   "cell_type": "code",
   "execution_count": 2,
   "metadata": {},
   "outputs": [],
   "source": [
    "from qiskit import QuantumCircuit\n",
    "from qiskit.circuit import Gate\n",
    "from math import pi\n",
    "qc = QuantumCircuit(2)\n",
    "c = 0\n",
    "t = 1"
   ]
  },
  {
   "cell_type": "code",
   "execution_count": 3,
   "metadata": {},
   "outputs": [
    {
     "data": {
      "text/html": [
       "<pre style=\"word-wrap: normal;white-space: pre;background: #fff0;line-height: 1.1;font-family: &quot;Courier New&quot;,Courier,monospace\">        \n",
       "q_0: ─■─\n",
       "      │ \n",
       "q_1: ─■─\n",
       "        </pre>"
      ],
      "text/plain": [
       "        \n",
       "q_0: ─■─\n",
       "      │ \n",
       "q_1: ─■─\n",
       "        "
      ]
     },
     "execution_count": 3,
     "metadata": {},
     "output_type": "execute_result"
    }
   ],
   "source": [
    "# a controlled-Z\n",
    "qc.cz(c,t)\n",
    "qc.draw()"
   ]
  },
  {
   "cell_type": "code",
   "execution_count": 4,
   "metadata": {},
   "outputs": [
    {
     "data": {
      "text/html": [
       "<pre style=\"word-wrap: normal;white-space: pre;background: #fff0;line-height: 1.1;font-family: &quot;Courier New&quot;,Courier,monospace\">                    \n",
       "q_0: ───────■───────\n",
       "     ┌───┐┌─┴─┐┌───┐\n",
       "q_1: ┤ H ├┤ X ├┤ H ├\n",
       "     └───┘└───┘└───┘</pre>"
      ],
      "text/plain": [
       "                    \n",
       "q_0: ───────■───────\n",
       "     ┌───┐┌─┴─┐┌───┐\n",
       "q_1: ┤ H ├┤ X ├┤ H ├\n",
       "     └───┘└───┘└───┘"
      ]
     },
     "execution_count": 4,
     "metadata": {},
     "output_type": "execute_result"
    }
   ],
   "source": [
    "qc = QuantumCircuit(2)\n",
    "# also a controlled-Z\n",
    "qc.h(t)\n",
    "qc.cx(c,t)\n",
    "qc.h(t)\n",
    "qc.draw()"
   ]
  },
  {
   "cell_type": "code",
   "execution_count": 5,
   "metadata": {},
   "outputs": [
    {
     "data": {
      "text/html": [
       "<pre style=\"word-wrap: normal;white-space: pre;background: #fff0;line-height: 1.1;font-family: &quot;Courier New&quot;,Courier,monospace\">                      \n",
       "q_0: ─────────■───────\n",
       "     ┌─────┐┌─┴─┐┌───┐\n",
       "q_1: ┤ Sdg ├┤ X ├┤ S ├\n",
       "     └─────┘└───┘└───┘</pre>"
      ],
      "text/plain": [
       "                      \n",
       "q_0: ─────────■───────\n",
       "     ┌─────┐┌─┴─┐┌───┐\n",
       "q_1: ┤ Sdg ├┤ X ├┤ S ├\n",
       "     └─────┘└───┘└───┘"
      ]
     },
     "execution_count": 5,
     "metadata": {},
     "output_type": "execute_result"
    }
   ],
   "source": [
    "qc = QuantumCircuit(2)\n",
    "# a controlled-Y\n",
    "qc.sdg(t)\n",
    "qc.cx(c,t)\n",
    "qc.s(t)\n",
    "qc.draw()"
   ]
  },
  {
   "cell_type": "code",
   "execution_count": 6,
   "metadata": {},
   "outputs": [
    {
     "data": {
      "text/html": [
       "<pre style=\"word-wrap: normal;white-space: pre;background: #fff0;line-height: 1.1;font-family: &quot;Courier New&quot;,Courier,monospace\">                                 \n",
       "q_0: ─────────────■──────────────\n",
       "     ┌─────────┐┌─┴─┐┌──────────┐\n",
       "q_1: ┤ Ry(π/4) ├┤ X ├┤ Ry(-π/4) ├\n",
       "     └─────────┘└───┘└──────────┘</pre>"
      ],
      "text/plain": [
       "                                 \n",
       "q_0: ─────────────■──────────────\n",
       "     ┌─────────┐┌─┴─┐┌──────────┐\n",
       "q_1: ┤ Ry(π/4) ├┤ X ├┤ Ry(-π/4) ├\n",
       "     └─────────┘└───┘└──────────┘"
      ]
     },
     "execution_count": 6,
     "metadata": {},
     "output_type": "execute_result"
    }
   ],
   "source": [
    "qc = QuantumCircuit(2)\n",
    "# a controlled-H\n",
    "qc.ry(pi/4,t)\n",
    "qc.cx(c,t)\n",
    "qc.ry(-pi/4,t)\n",
    "qc.draw()"
   ]
  },
  {
   "cell_type": "code",
   "execution_count": 7,
   "metadata": {},
   "outputs": [],
   "source": [
    "a = 0\n",
    "b = 1"
   ]
  },
  {
   "cell_type": "code",
   "execution_count": 8,
   "metadata": {},
   "outputs": [
    {
     "data": {
      "text/html": [
       "<pre style=\"word-wrap: normal;white-space: pre;background: #fff0;line-height: 1.1;font-family: &quot;Courier New&quot;,Courier,monospace\">        \n",
       "q_0: ─X─\n",
       "      │ \n",
       "q_1: ─X─\n",
       "        </pre>"
      ],
      "text/plain": [
       "        \n",
       "q_0: ─X─\n",
       "      │ \n",
       "q_1: ─X─\n",
       "        "
      ]
     },
     "execution_count": 8,
     "metadata": {},
     "output_type": "execute_result"
    }
   ],
   "source": [
    "qc = QuantumCircuit(2)\n",
    "# swaps states of qubits a and b\n",
    "qc.swap(a,b)\n",
    "qc.draw()"
   ]
  },
  {
   "cell_type": "code",
   "execution_count": 9,
   "metadata": {},
   "outputs": [
    {
     "data": {
      "text/html": [
       "<pre style=\"word-wrap: normal;white-space: pre;background: #fff0;line-height: 1.1;font-family: &quot;Courier New&quot;,Courier,monospace\">          ┌───┐\n",
       "q_0: ──■──┤ X ├\n",
       "     ┌─┴─┐└─┬─┘\n",
       "q_1: ┤ X ├──■──\n",
       "     └───┘     </pre>"
      ],
      "text/plain": [
       "          ┌───┐\n",
       "q_0: ──■──┤ X ├\n",
       "     ┌─┴─┐└─┬─┘\n",
       "q_1: ┤ X ├──■──\n",
       "     └───┘     "
      ]
     },
     "execution_count": 9,
     "metadata": {},
     "output_type": "execute_result"
    }
   ],
   "source": [
    "qc = QuantumCircuit(2)\n",
    "# swap a 1 from a to b\n",
    "qc.cx(a,b) # copies 1 from a to b\n",
    "qc.cx(b,a) # uses the 1 on b to rotate the state of a to 0\n",
    "qc.draw()"
   ]
  },
  {
   "cell_type": "code",
   "execution_count": 10,
   "metadata": {},
   "outputs": [
    {
     "data": {
      "text/html": [
       "<pre style=\"word-wrap: normal;white-space: pre;background: #fff0;line-height: 1.1;font-family: &quot;Courier New&quot;,Courier,monospace\">          ┌───┐┌───┐     \n",
       "q_0: ──■──┤ X ├┤ X ├──■──\n",
       "     ┌─┴─┐└─┬─┘└─┬─┘┌─┴─┐\n",
       "q_1: ┤ X ├──■────■──┤ X ├\n",
       "     └───┘          └───┘</pre>"
      ],
      "text/plain": [
       "          ┌───┐┌───┐     \n",
       "q_0: ──■──┤ X ├┤ X ├──■──\n",
       "     ┌─┴─┐└─┬─┘└─┬─┘┌─┴─┐\n",
       "q_1: ┤ X ├──■────■──┤ X ├\n",
       "     └───┘          └───┘"
      ]
     },
     "execution_count": 10,
     "metadata": {},
     "output_type": "execute_result"
    }
   ],
   "source": [
    "# swap a q from b to a\n",
    "qc.cx(b,a) # copies 1 from b to a\n",
    "qc.cx(a,b) # uses the 1 on a to rotate the state of b to 0\n",
    "qc.draw()"
   ]
  },
  {
   "cell_type": "code",
   "execution_count": 11,
   "metadata": {},
   "outputs": [
    {
     "data": {
      "text/html": [
       "<pre style=\"word-wrap: normal;white-space: pre;background: #fff0;line-height: 1.1;font-family: &quot;Courier New&quot;,Courier,monospace\">     ┌───┐     ┌───┐\n",
       "q_0: ┤ X ├──■──┤ X ├\n",
       "     └─┬─┘┌─┴─┐└─┬─┘\n",
       "q_1: ──■──┤ X ├──■──\n",
       "          └───┘     </pre>"
      ],
      "text/plain": [
       "     ┌───┐     ┌───┐\n",
       "q_0: ┤ X ├──■──┤ X ├\n",
       "     └─┬─┘┌─┴─┐└─┬─┘\n",
       "q_1: ──■──┤ X ├──■──\n",
       "          └───┘     "
      ]
     },
     "execution_count": 11,
     "metadata": {},
     "output_type": "execute_result"
    }
   ],
   "source": [
    "qc = QuantumCircuit(2)\n",
    "qc.cx(b,a)\n",
    "qc.cx(a,b)\n",
    "qc.cx(b,a)\n",
    "qc.draw()"
   ]
  },
  {
   "cell_type": "code",
   "execution_count": 12,
   "metadata": {},
   "outputs": [
    {
     "data": {
      "text/html": [
       "<pre style=\"word-wrap: normal;white-space: pre;background: #fff0;line-height: 1.1;font-family: &quot;Courier New&quot;,Courier,monospace\">          ┌───┐     \n",
       "q_0: ──■──┤ X ├──■──\n",
       "     ┌─┴─┐└─┬─┘┌─┴─┐\n",
       "q_1: ┤ X ├──■──┤ X ├\n",
       "     └───┘     └───┘</pre>"
      ],
      "text/plain": [
       "          ┌───┐     \n",
       "q_0: ──■──┤ X ├──■──\n",
       "     ┌─┴─┐└─┬─┘┌─┴─┐\n",
       "q_1: ┤ X ├──■──┤ X ├\n",
       "     └───┘     └───┘"
      ]
     },
     "execution_count": 12,
     "metadata": {},
     "output_type": "execute_result"
    }
   ],
   "source": [
    "qc = QuantumCircuit(2)\n",
    "# swaps states of qubits a and b\n",
    "qc.cx(a,b)\n",
    "qc.cx(b,a)\n",
    "qc.cx(a,b)\n",
    "qc.draw()"
   ]
  },
  {
   "cell_type": "code",
   "execution_count": 13,
   "metadata": {},
   "outputs": [
    {
     "data": {
      "text/html": [
       "<pre style=\"word-wrap: normal;white-space: pre;background: #fff0;line-height: 1.1;font-family: &quot;Courier New&quot;,Courier,monospace\">                                      \n",
       "q_0: ─────────────■────────────────■──\n",
       "     ┌─────────┐┌─┴─┐┌──────────┐┌─┴─┐\n",
       "q_1: ┤ Ry(π/2) ├┤ X ├┤ Ry(-π/2) ├┤ X ├\n",
       "     └─────────┘└───┘└──────────┘└───┘</pre>"
      ],
      "text/plain": [
       "                                      \n",
       "q_0: ─────────────■────────────────■──\n",
       "     ┌─────────┐┌─┴─┐┌──────────┐┌─┴─┐\n",
       "q_1: ┤ Ry(π/2) ├┤ X ├┤ Ry(-π/2) ├┤ X ├\n",
       "     └─────────┘└───┘└──────────┘└───┘"
      ]
     },
     "execution_count": 13,
     "metadata": {},
     "output_type": "execute_result"
    }
   ],
   "source": [
    "qc = QuantumCircuit(2)\n",
    "theta = pi # theta can be anything (pi chosen arbitrarily)\n",
    "qc.ry(theta/2,t)\n",
    "qc.cx(c,t)\n",
    "qc.ry(-theta/2,t)\n",
    "qc.cx(c,t)\n",
    "qc.draw()"
   ]
  },
  {
   "cell_type": "code",
   "execution_count": 14,
   "metadata": {},
   "outputs": [],
   "source": [
    "A = Gate('A', 1, [])\n",
    "B = Gate('B', 1, [])\n",
    "C = Gate('C', 1, [])\n",
    "alpha = 1 # arbitrarily define alpha to allow drawing of circuit"
   ]
  },
  {
   "cell_type": "code",
   "execution_count": 15,
   "metadata": {},
   "outputs": [
    {
     "data": {
      "text/html": [
       "<pre style=\"word-wrap: normal;white-space: pre;background: #fff0;line-height: 1.1;font-family: &quot;Courier New&quot;,Courier,monospace\">                     ┌──────┐\n",
       "q_0: ──────■───────■─┤ P(1) ├\n",
       "     ┌───┐ │ ┌───┐ │ └┬───┬─┘\n",
       "q_1: ┤ C ├─■─┤ B ├─■──┤ A ├──\n",
       "     └───┘   └───┘    └───┘  </pre>"
      ],
      "text/plain": [
       "                     ┌──────┐\n",
       "q_0: ──────■───────■─┤ P(1) ├\n",
       "     ┌───┐ │ ┌───┐ │ └┬───┬─┘\n",
       "q_1: ┤ C ├─■─┤ B ├─■──┤ A ├──\n",
       "     └───┘   └───┘    └───┘  "
      ]
     },
     "execution_count": 15,
     "metadata": {},
     "output_type": "execute_result"
    }
   ],
   "source": [
    "qc = QuantumCircuit(2)\n",
    "qc.append(C, [t])\n",
    "qc.cz(c,t)\n",
    "qc.append(B, [t])\n",
    "qc.cz(c,t)\n",
    "qc.append(A, [t])\n",
    "qc.p(alpha,c)\n",
    "qc.draw()"
   ]
  },
  {
   "cell_type": "code",
   "execution_count": 16,
   "metadata": {},
   "outputs": [
    {
     "data": {
      "text/html": [
       "<pre style=\"word-wrap: normal;white-space: pre;background: #fff0;line-height: 1.1;font-family: &quot;Courier New&quot;,Courier,monospace\">          \n",
       "q_0: ──■──\n",
       "       │  \n",
       "q_1: ──■──\n",
       "     ┌─┴─┐\n",
       "q_2: ┤ X ├\n",
       "     └───┘</pre>"
      ],
      "text/plain": [
       "          \n",
       "q_0: ──■──\n",
       "       │  \n",
       "q_1: ──■──\n",
       "     ┌─┴─┐\n",
       "q_2: ┤ X ├\n",
       "     └───┘"
      ]
     },
     "execution_count": 16,
     "metadata": {},
     "output_type": "execute_result"
    }
   ],
   "source": [
    "qc = QuantumCircuit(3)\n",
    "a = 0\n",
    "b = 1\n",
    "t = 2\n",
    "# Toffoli with control qubits a and b and target t\n",
    "qc.ccx(a,b,t)\n",
    "qc.draw()"
   ]
  },
  {
   "cell_type": "code",
   "execution_count": 17,
   "metadata": {},
   "outputs": [
    {
     "data": {
      "text/html": [
       "<pre style=\"word-wrap: normal;white-space: pre;background: #fff0;line-height: 1.1;font-family: &quot;Courier New&quot;,Courier,monospace\">                                     \n",
       "q_0: ─────────■────────────■───■─────\n",
       "            ┌─┴─┐        ┌─┴─┐ │     \n",
       "q_1: ─■─────┤ X ├─■──────┤ X ├─┼─────\n",
       "      │P(π) └───┘ │P(-π) └───┘ │P(π) \n",
       "q_2: ─■───────────■────────────■─────\n",
       "                                     </pre>"
      ],
      "text/plain": [
       "                                     \n",
       "q_0: ─────────■────────────■───■─────\n",
       "            ┌─┴─┐        ┌─┴─┐ │     \n",
       "q_1: ─■─────┤ X ├─■──────┤ X ├─┼─────\n",
       "      │P(π) └───┘ │P(-π) └───┘ │P(π) \n",
       "q_2: ─■───────────■────────────■─────\n",
       "                                     "
      ]
     },
     "execution_count": 17,
     "metadata": {},
     "output_type": "execute_result"
    }
   ],
   "source": [
    "qc = QuantumCircuit(3)\n",
    "qc.cp(theta,b,t)\n",
    "qc.cx(a,b)\n",
    "qc.cp(-theta,b,t)\n",
    "qc.cx(a,b)\n",
    "qc.cp(theta,a,t)\n",
    "qc.draw()"
   ]
  },
  {
   "cell_type": "code",
   "execution_count": 18,
   "metadata": {},
   "outputs": [
    {
     "data": {
      "text/html": [
       "<pre style=\"word-wrap: normal;white-space: pre;background: #fff0;line-height: 1.1;font-family: &quot;Courier New&quot;,Courier,monospace\">                  \n",
       "q_0: ──■───────■──\n",
       "       │       │  \n",
       "q_1: ──┼───■───┼──\n",
       "     ┌─┴─┐ │ ┌─┴─┐\n",
       "q_2: ┤ H ├─■─┤ H ├\n",
       "     └───┘   └───┘</pre>"
      ],
      "text/plain": [
       "                  \n",
       "q_0: ──■───────■──\n",
       "       │       │  \n",
       "q_1: ──┼───■───┼──\n",
       "     ┌─┴─┐ │ ┌─┴─┐\n",
       "q_2: ┤ H ├─■─┤ H ├\n",
       "     └───┘   └───┘"
      ]
     },
     "execution_count": 18,
     "metadata": {},
     "output_type": "execute_result"
    }
   ],
   "source": [
    "qc = QuantumCircuit(3)\n",
    "qc.ch(a,t)\n",
    "qc.cz(b,t)\n",
    "qc.ch(a,t)\n",
    "qc.draw()"
   ]
  },
  {
   "cell_type": "code",
   "execution_count": 19,
   "metadata": {},
   "outputs": [
    {
     "data": {
      "text/html": [
       "<pre style=\"word-wrap: normal;white-space: pre;background: #fff0;line-height: 1.1;font-family: &quot;Courier New&quot;,Courier,monospace\">   ┌───┐\n",
       "q: ┤ T ├\n",
       "   └───┘</pre>"
      ],
      "text/plain": [
       "   ┌───┐\n",
       "q: ┤ T ├\n",
       "   └───┘"
      ]
     },
     "execution_count": 19,
     "metadata": {},
     "output_type": "execute_result"
    }
   ],
   "source": [
    "qc = QuantumCircuit(1)\n",
    "qc.t(0) # T gate on qubit 0\n",
    "qc.draw()"
   ]
  },
  {
   "cell_type": "code",
   "execution_count": 20,
   "metadata": {},
   "outputs": [
    {
     "data": {
      "text/html": [
       "<pre style=\"word-wrap: normal;white-space: pre;background: #fff0;line-height: 1.1;font-family: &quot;Courier New&quot;,Courier,monospace\">   ┌───┐┌───┐┌───┐\n",
       "q: ┤ H ├┤ T ├┤ H ├\n",
       "   └───┘└───┘└───┘</pre>"
      ],
      "text/plain": [
       "   ┌───┐┌───┐┌───┐\n",
       "q: ┤ H ├┤ T ├┤ H ├\n",
       "   └───┘└───┘└───┘"
      ]
     },
     "execution_count": 20,
     "metadata": {},
     "output_type": "execute_result"
    }
   ],
   "source": [
    "qc = QuantumCircuit(1)\n",
    "qc.h(0)\n",
    "qc.t(0)\n",
    "qc.h(0)\n",
    "qc.draw()"
   ]
  },
  {
   "cell_type": "code",
   "execution_count": 21,
   "metadata": {},
   "outputs": [
    {
     "data": {
      "text/html": [
       "<pre style=\"word-wrap: normal;white-space: pre;background: #fff0;line-height: 1.1;font-family: &quot;Courier New&quot;,Courier,monospace\">   ┌───┐┌───┐┌───┐┌───┐\n",
       "q: ┤ H ├┤ T ├┤ H ├┤ T ├\n",
       "   └───┘└───┘└───┘└───┘</pre>"
      ],
      "text/plain": [
       "   ┌───┐┌───┐┌───┐┌───┐\n",
       "q: ┤ H ├┤ T ├┤ H ├┤ T ├\n",
       "   └───┘└───┘└───┘└───┘"
      ]
     },
     "execution_count": 21,
     "metadata": {},
     "output_type": "execute_result"
    }
   ],
   "source": [
    "qc = QuantumCircuit(1)\n",
    "qc.h(0)\n",
    "qc.t(0)\n",
    "qc.h(0)\n",
    "qc.t(0)\n",
    "qc.draw()"
   ]
  },
  {
   "cell_type": "code",
   "execution_count": 22,
   "metadata": {},
   "outputs": [
    {
     "data": {
      "text/html": [
       "<pre style=\"word-wrap: normal;white-space: pre;background: #fff0;line-height: 1.1;font-family: &quot;Courier New&quot;,Courier,monospace\">   ┌───┐┌───┐┌───┐┌───┐\n",
       "q: ┤ T ├┤ H ├┤ T ├┤ H ├\n",
       "   └───┘└───┘└───┘└───┘</pre>"
      ],
      "text/plain": [
       "   ┌───┐┌───┐┌───┐┌───┐\n",
       "q: ┤ T ├┤ H ├┤ T ├┤ H ├\n",
       "   └───┘└───┘└───┘└───┘"
      ]
     },
     "execution_count": 22,
     "metadata": {},
     "output_type": "execute_result"
    }
   ],
   "source": [
    "qc = QuantumCircuit(1)\n",
    "qc.t(0)\n",
    "qc.h(0)\n",
    "qc.t(0)\n",
    "qc.h(0)\n",
    "qc.draw()"
   ]
  },
  {
   "cell_type": "code",
   "execution_count": null,
   "metadata": {},
   "outputs": [],
   "source": [
    "import qiskit.tools.jupyter\n",
    "%qiskit_version_table"
   ]
  }
 ],
 "metadata": {
  "kernelspec": {
   "display_name": "Python 3",
   "language": "python",
   "name": "python3"
  },
  "language_info": {
   "codemirror_mode": {
    "name": "ipython",
    "version": 3
   },
   "file_extension": ".py",
   "mimetype": "text/x-python",
   "name": "python",
   "nbconvert_exporter": "python",
   "pygments_lexer": "ipython3",
   "version": "3.11.1 (tags/v3.11.1:a7a450f, Dec  6 2022, 19:58:39) [MSC v.1934 64 bit (AMD64)]"
  },
  "orig_nbformat": 4,
  "vscode": {
   "interpreter": {
    "hash": "ff4b1fca65a764b45acb559e482afe389d289dd599b9f8c5fd12ff5c2ea46a65"
   }
  }
 },
 "nbformat": 4,
 "nbformat_minor": 2
}
