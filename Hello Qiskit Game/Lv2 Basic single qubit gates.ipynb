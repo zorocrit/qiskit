{
 "cells": [
  {
   "cell_type": "code",
   "execution_count": 1,
   "metadata": {},
   "outputs": [
    {
     "name": "stdout",
     "output_type": "stream",
     "text": [
      "Hello! I'm code cell\n",
      "Set up started...\n",
      "Set up completed!\n"
     ]
    }
   ],
   "source": [
    "print(\"Hello! I'm code cell\")\n",
    "print(\"Set up started...\")\n",
    "from qiskit_textbook.games import hello_quantum\n",
    "print(\"Set up completed!\")"
   ]
  },
  {
   "cell_type": "code",
   "execution_count": 2,
   "metadata": {},
   "outputs": [
    {
     "data": {
      "application/vnd.jupyter.widget-view+json": {
       "model_id": "25de7298a8a641e8874e4e7ef082cad2",
       "version_major": 2,
       "version_minor": 0
      },
      "text/plain": [
       "Image(value=b'\\x89PNG\\r\\n\\x1a\\n\\x00\\x00\\x00\\rIHDR\\x00\\x00\\x02X\\x00\\x00\\x02X\\x08\\x06\\x00\\x00\\x00\\xbef\\x98\\xdc\\x…"
      ]
     },
     "metadata": {},
     "output_type": "display_data"
    },
    {
     "data": {
      "application/vnd.jupyter.widget-view+json": {
       "model_id": "ef71782483cc48d2ac8ff57d6ef0ce4d",
       "version_major": 2,
       "version_minor": 0
      },
      "text/plain": [
       "VBox(children=(ToggleButtons(options=('Choose gate', 'x'), value='Choose gate'), ToggleButtons(options=('',), …"
      ]
     },
     "metadata": {},
     "output_type": "display_data"
    }
   ],
   "source": [
    "initialize = [ [\"x\",\"0\"] ]\n",
    "success_condition = {\"ZI\":1.0}\n",
    "allowed_gates = { \"0\":{\"x\":3}, \"1\":{}, \"both\":{} }\n",
    "vi = [[1],True,True]\n",
    "qubit_names = {'0':'the only qubit', '1':None}\n",
    "puzzle = hello_quantum.run_game(initialize, success_condition, allowed_gates, vi, qubit_names)"
   ]
  },
  {
   "cell_type": "code",
   "execution_count": 3,
   "metadata": {},
   "outputs": [
    {
     "data": {
      "application/vnd.jupyter.widget-view+json": {
       "model_id": "425123e24d474d7183225fd8396daa51",
       "version_major": 2,
       "version_minor": 0
      },
      "text/plain": [
       "Image(value=b'\\x89PNG\\r\\n\\x1a\\n\\x00\\x00\\x00\\rIHDR\\x00\\x00\\x02X\\x00\\x00\\x02X\\x08\\x06\\x00\\x00\\x00\\xbef\\x98\\xdc\\x…"
      ]
     },
     "metadata": {},
     "output_type": "display_data"
    },
    {
     "data": {
      "application/vnd.jupyter.widget-view+json": {
       "model_id": "662cbc78bb6b4a3da48ea06ab7b9f2d2",
       "version_major": 2,
       "version_minor": 0
      },
      "text/plain": [
       "VBox(children=(ToggleButtons(options=('Choose gate', 'x'), value='Choose gate'), ToggleButtons(options=('',), …"
      ]
     },
     "metadata": {},
     "output_type": "display_data"
    }
   ],
   "source": [
    "initialize = [['x', '0']]\n",
    "success_condition = {'ZI': 1.0}\n",
    "allowed_gates = {'0': {'x': 0}, '1': {}, 'both': {}}\n",
    "vi = [[1], True, True]\n",
    "qubit_names = {'0':'the only qubit', '1':None}\n",
    "puzzle = hello_quantum.run_game(initialize, success_condition, allowed_gates, vi, qubit_names)"
   ]
  },
  {
   "cell_type": "code",
   "execution_count": 4,
   "metadata": {},
   "outputs": [
    {
     "data": {
      "application/vnd.jupyter.widget-view+json": {
       "model_id": "b5effe9b4b394a338e195690122f3d90",
       "version_major": 2,
       "version_minor": 0
      },
      "text/plain": [
       "Image(value=b'\\x89PNG\\r\\n\\x1a\\n\\x00\\x00\\x00\\rIHDR\\x00\\x00\\x02X\\x00\\x00\\x02X\\x08\\x06\\x00\\x00\\x00\\xbef\\x98\\xdc\\x…"
      ]
     },
     "metadata": {},
     "output_type": "display_data"
    },
    {
     "data": {
      "application/vnd.jupyter.widget-view+json": {
       "model_id": "d5fdc4c0954d4df6855e3d58df86f9aa",
       "version_major": 2,
       "version_minor": 0
      },
      "text/plain": [
       "VBox(children=(ToggleButtons(options=('Choose gate', 'x'), value='Choose gate'), ToggleButtons(options=('',), …"
      ]
     },
     "metadata": {},
     "output_type": "display_data"
    }
   ],
   "source": [
    "initialize = [['x', '1']]\n",
    "success_condition = {'IZ': 1.0}\n",
    "allowed_gates = {'0': {}, '1': {'x': 0}, 'both': {}}\n",
    "vi = [[0], True, True]\n",
    "qubit_names = {'0':None, '1':'the other qubit'}\n",
    "puzzle = hello_quantum.run_game(initialize, success_condition, allowed_gates, vi, qubit_names)"
   ]
  },
  {
   "cell_type": "code",
   "execution_count": 5,
   "metadata": {},
   "outputs": [
    {
     "data": {
      "application/vnd.jupyter.widget-view+json": {
       "model_id": "9df57b484aa14b6e896d5fef83425850",
       "version_major": 2,
       "version_minor": 0
      },
      "text/plain": [
       "Image(value=b'\\x89PNG\\r\\n\\x1a\\n\\x00\\x00\\x00\\rIHDR\\x00\\x00\\x02X\\x00\\x00\\x02X\\x08\\x06\\x00\\x00\\x00\\xbef\\x98\\xdc\\x…"
      ]
     },
     "metadata": {},
     "output_type": "display_data"
    },
    {
     "data": {
      "application/vnd.jupyter.widget-view+json": {
       "model_id": "f5a5e1094e374d2dbd14b1bc3915e0c2",
       "version_major": 2,
       "version_minor": 0
      },
      "text/plain": [
       "VBox(children=(ToggleButtons(options=('Choose gate', 'h'), value='Choose gate'), ToggleButtons(options=('',), …"
      ]
     },
     "metadata": {},
     "output_type": "display_data"
    }
   ],
   "source": [
    "initialize = []\n",
    "success_condition = {'ZI': 0.0}\n",
    "allowed_gates = {'0': {'h': 3}, '1': {}, 'both': {}}\n",
    "vi = [[1], True, True]\n",
    "qubit_names = {'0':'q[0]', '1':'q[1]'}\n",
    "puzzle = hello_quantum.run_game(initialize, success_condition, allowed_gates, vi, qubit_names)"
   ]
  },
  {
   "cell_type": "code",
   "execution_count": 6,
   "metadata": {},
   "outputs": [
    {
     "data": {
      "image/png": "[encoded data removed]",
      "text/plain": [
       "<Figure size 161.878x284.278 with 1 Axes>"
      ]
     },
     "execution_count": 6,
     "metadata": {},
     "output_type": "execute_result"
    }
   ],
   "source": [
    "puzzle.get_circuit().draw(output='mpl')"
   ]
  },
  {
   "cell_type": "code",
   "execution_count": 7,
   "metadata": {},
   "outputs": [
    {
     "data": {
      "application/vnd.jupyter.widget-view+json": {
       "model_id": "258c252191fd410c9349c827cd12e613",
       "version_major": 2,
       "version_minor": 0
      },
      "text/plain": [
       "Image(value=b'\\x89PNG\\r\\n\\x1a\\n\\x00\\x00\\x00\\rIHDR\\x00\\x00\\x02X\\x00\\x00\\x02X\\x08\\x06\\x00\\x00\\x00\\xbef\\x98\\xdc\\x…"
      ]
     },
     "metadata": {},
     "output_type": "display_data"
    },
    {
     "data": {
      "application/vnd.jupyter.widget-view+json": {
       "model_id": "f29574e8056e4a668e17d2ba92cb7960",
       "version_major": 2,
       "version_minor": 0
      },
      "text/plain": [
       "VBox(children=(ToggleButtons(options=('Choose gate', 'x', 'h'), value='Choose gate'), ToggleButtons(options=('…"
      ]
     },
     "metadata": {},
     "output_type": "display_data"
    }
   ],
   "source": [
    "initialize = [['h', '1']]\n",
    "success_condition = {'IZ': 1.0}\n",
    "allowed_gates = {'0': {}, '1': {'x': 3, 'h': 0}, 'both': {}}\n",
    "vi = [[0], True, True]\n",
    "qubit_names = {'0':'q[0]', '1':'q[1]'}\n",
    "puzzle = hello_quantum.run_game(initialize, success_condition, allowed_gates, vi, qubit_names)"
   ]
  },
  {
   "cell_type": "code",
   "execution_count": 8,
   "metadata": {},
   "outputs": [
    {
     "data": {
      "image/png": "[encoded data removed]",
      "text/plain": [
       "<Figure size 161.878x284.278 with 1 Axes>"
      ]
     },
     "execution_count": 8,
     "metadata": {},
     "output_type": "execute_result"
    }
   ],
   "source": [
    "puzzle.get_circuit().draw(output='mpl')"
   ]
  },
  {
   "cell_type": "code",
   "execution_count": 9,
   "metadata": {},
   "outputs": [
    {
     "data": {
      "application/vnd.jupyter.widget-view+json": {
       "model_id": "7690d703952548fe85755621f970515a",
       "version_major": 2,
       "version_minor": 0
      },
      "text/plain": [
       "Image(value=b'\\x89PNG\\r\\n\\x1a\\n\\x00\\x00\\x00\\rIHDR\\x00\\x00\\x02X\\x00\\x00\\x02X\\x08\\x06\\x00\\x00\\x00\\xbef\\x98\\xdc\\x…"
      ]
     },
     "metadata": {},
     "output_type": "display_data"
    },
    {
     "data": {
      "application/vnd.jupyter.widget-view+json": {
       "model_id": "f0a882a03d0b49c595458cc40e7badf3",
       "version_major": 2,
       "version_minor": 0
      },
      "text/plain": [
       "VBox(children=(ToggleButtons(options=('Choose gate', 'z', 'h'), value='Choose gate'), ToggleButtons(options=('…"
      ]
     },
     "metadata": {},
     "output_type": "display_data"
    }
   ],
   "source": [
    "initialize = []\n",
    "success_condition = {'ZI': -1.0}\n",
    "allowed_gates = {'0': {'z': 0, 'h': 0}, '1': {}, 'both': {}}\n",
    "vi = [[1], True, True]\n",
    "qubit_names = {'0':'q[0]', '1':'q[1]'}\n",
    "puzzle = hello_quantum.run_game(initialize, success_condition, allowed_gates, vi, qubit_names)"
   ]
  },
  {
   "cell_type": "code",
   "execution_count": 10,
   "metadata": {},
   "outputs": [
    {
     "data": {
      "image/png": "[encoded data removed]",
      "text/plain": [
       "<Figure size 161.878x284.278 with 1 Axes>"
      ]
     },
     "execution_count": 10,
     "metadata": {},
     "output_type": "execute_result"
    }
   ],
   "source": [
    "puzzle.get_circuit().draw(output='mpl')"
   ]
  },
  {
   "cell_type": "code",
   "execution_count": 11,
   "metadata": {},
   "outputs": [
    {
     "data": {
      "application/vnd.jupyter.widget-view+json": {
       "model_id": "cf30b37828d043f0a7016e46ece38188",
       "version_major": 2,
       "version_minor": 0
      },
      "text/plain": [
       "Image(value=b'\\x89PNG\\r\\n\\x1a\\n\\x00\\x00\\x00\\rIHDR\\x00\\x00\\x02X\\x00\\x00\\x02X\\x08\\x06\\x00\\x00\\x00\\xbef\\x98\\xdc\\x…"
      ]
     },
     "metadata": {},
     "output_type": "display_data"
    },
    {
     "data": {
      "application/vnd.jupyter.widget-view+json": {
       "model_id": "1ce60b2590e24fafac9e18b5c1dac483",
       "version_major": 2,
       "version_minor": 0
      },
      "text/plain": [
       "VBox(children=(ToggleButtons(options=('Choose gate', 'z', 'h'), value='Choose gate'), ToggleButtons(options=('…"
      ]
     },
     "metadata": {},
     "output_type": "display_data"
    }
   ],
   "source": [
    "initialize = [['h', '0']]\n",
    "success_condition = {'IX': 1.0}\n",
    "allowed_gates = {'0': {}, '1': {'z': 0, 'h': 0}, 'both': {}}\n",
    "vi = [[0], True, True]\n",
    "qubit_names = {'0':'q[0]', '1':'q[1]'}\n",
    "puzzle = hello_quantum.run_game(initialize, success_condition, allowed_gates, vi, qubit_names)"
   ]
  },
  {
   "cell_type": "code",
   "execution_count": 12,
   "metadata": {},
   "outputs": [
    {
     "data": {
      "image/png": "[encoded data removed]",
      "text/plain": [
       "<Figure size 161.878x284.278 with 1 Axes>"
      ]
     },
     "execution_count": 12,
     "metadata": {},
     "output_type": "execute_result"
    }
   ],
   "source": [
    "puzzle.get_circuit().draw(output='mpl')"
   ]
  },
  {
   "cell_type": "code",
   "execution_count": 13,
   "metadata": {},
   "outputs": [
    {
     "data": {
      "application/vnd.jupyter.widget-view+json": {
       "model_id": "e86510d90de04fdd83f160481d34bb8b",
       "version_major": 2,
       "version_minor": 0
      },
      "text/plain": [
       "Image(value=b'\\x89PNG\\r\\n\\x1a\\n\\x00\\x00\\x00\\rIHDR\\x00\\x00\\x02X\\x00\\x00\\x02X\\x08\\x06\\x00\\x00\\x00\\xbef\\x98\\xdc\\x…"
      ]
     },
     "metadata": {},
     "output_type": "display_data"
    },
    {
     "data": {
      "application/vnd.jupyter.widget-view+json": {
       "model_id": "3f19383e838c443ea5f871aa8b103056",
       "version_major": 2,
       "version_minor": 0
      },
      "text/plain": [
       "VBox(children=(ToggleButtons(options=('Choose gate', 'z', 'h'), value='Choose gate'), ToggleButtons(options=('…"
      ]
     },
     "metadata": {},
     "output_type": "display_data"
    }
   ],
   "source": [
    "initialize = [['ry(pi/4)', '1']]\n",
    "success_condition = {'IZ': -0.7071, 'IX': -0.7071}\n",
    "allowed_gates = {'0': {}, '1': {'z': 0, 'h': 0}, 'both': {}}\n",
    "vi = [[0], True, True]\n",
    "qubit_names = {'0':'q[0]', '1':'q[1]'}\n",
    "puzzle = hello_quantum.run_game(initialize, success_condition, allowed_gates, vi, qubit_names)"
   ]
  },
  {
   "cell_type": "code",
   "execution_count": 14,
   "metadata": {},
   "outputs": [
    {
     "data": {
      "image/png": "[encoded data removed]",
      "text/plain": [
       "<Figure size 161.878x284.278 with 1 Axes>"
      ]
     },
     "execution_count": 14,
     "metadata": {},
     "output_type": "execute_result"
    }
   ],
   "source": [
    "puzzle.get_circuit().draw(output='mpl')"
   ]
  },
  {
   "cell_type": "code",
   "execution_count": 15,
   "metadata": {},
   "outputs": [
    {
     "data": {
      "application/vnd.jupyter.widget-view+json": {
       "model_id": "021d080cad674105a1b7bc7e782a6aaa",
       "version_major": 2,
       "version_minor": 0
      },
      "text/plain": [
       "Image(value=b'\\x89PNG\\r\\n\\x1a\\n\\x00\\x00\\x00\\rIHDR\\x00\\x00\\x02X\\x00\\x00\\x02X\\x08\\x06\\x00\\x00\\x00\\xbef\\x98\\xdc\\x…"
      ]
     },
     "metadata": {},
     "output_type": "display_data"
    },
    {
     "data": {
      "application/vnd.jupyter.widget-view+json": {
       "model_id": "d877af43217142aa97b9319fc3f85477",
       "version_major": 2,
       "version_minor": 0
      },
      "text/plain": [
       "VBox(children=(ToggleButtons(options=('Choose gate', 'x', 'z', 'h'), value='Choose gate'), ToggleButtons(optio…"
      ]
     },
     "metadata": {},
     "output_type": "display_data"
    }
   ],
   "source": [
    "initialize = [['x', '1']]\n",
    "success_condition = {'ZI': 0.0, 'IZ': 0.0}\n",
    "allowed_gates = {'0': {'x': 0, 'z': 0, 'h': 0}, '1': {'x': 0, 'z': 0, 'h': 0}, 'both': {}}\n",
    "vi = [[], True, False]\n",
    "qubit_names = {'0':'q[0]', '1':'q[1]'}\n",
    "puzzle = hello_quantum.run_game(initialize, success_condition, allowed_gates, vi, qubit_names)"
   ]
  },
  {
   "cell_type": "code",
   "execution_count": 16,
   "metadata": {},
   "outputs": [
    {
     "data": {
      "image/png": "[encoded data removed]",
      "text/plain": [
       "<Figure size 161.878x284.278 with 1 Axes>"
      ]
     },
     "execution_count": 16,
     "metadata": {},
     "output_type": "execute_result"
    }
   ],
   "source": [
    "puzzle.get_circuit().draw(output='mpl')"
   ]
  },
  {
   "cell_type": "code",
   "execution_count": 17,
   "metadata": {},
   "outputs": [
    {
     "data": {
      "application/vnd.jupyter.widget-view+json": {
       "model_id": "f7c66a9585e24ea48df3a058f55ebe01",
       "version_major": 2,
       "version_minor": 0
      },
      "text/plain": [
       "Image(value=b'\\x89PNG\\r\\n\\x1a\\n\\x00\\x00\\x00\\rIHDR\\x00\\x00\\x02X\\x00\\x00\\x02X\\x08\\x06\\x00\\x00\\x00\\xbef\\x98\\xdc\\x…"
      ]
     },
     "metadata": {},
     "output_type": "display_data"
    },
    {
     "data": {
      "application/vnd.jupyter.widget-view+json": {
       "model_id": "48619ff7a81d4bd184482c73271fdc26",
       "version_major": 2,
       "version_minor": 0
      },
      "text/plain": [
       "VBox(children=(ToggleButtons(options=('Choose gate', 'x', 'z', 'h'), value='Choose gate'), ToggleButtons(optio…"
      ]
     },
     "metadata": {},
     "output_type": "display_data"
    }
   ],
   "source": [
    "initialize = [['h','0'],['h','1']]\n",
    "success_condition = {'ZZ': -1.0}\n",
    "allowed_gates = {'0': {'x': 0, 'z': 0, 'h': 0}, '1': {'x': 0, 'z': 0, 'h': 0}, 'both': {}}\n",
    "vi = [[], True, True]\n",
    "qubit_names = {'0':'q[0]', '1':'q[1]'}\n",
    "puzzle = hello_quantum.run_game(initialize, success_condition, allowed_gates, vi, qubit_names)"
   ]
  },
  {
   "cell_type": "code",
   "execution_count": 18,
   "metadata": {},
   "outputs": [
    {
     "data": {
      "image/png": "[encoded data removed]",
      "text/plain": [
       "<Figure size 161.878x284.278 with 1 Axes>"
      ]
     },
     "execution_count": 18,
     "metadata": {},
     "output_type": "execute_result"
    }
   ],
   "source": [
    "puzzle.get_circuit().draw(output='mpl')"
   ]
  },
  {
   "cell_type": "code",
   "execution_count": 19,
   "metadata": {},
   "outputs": [
    {
     "data": {
      "application/vnd.jupyter.widget-view+json": {
       "model_id": "8fbb65aa345849ba98e8342af059f9eb",
       "version_major": 2,
       "version_minor": 0
      },
      "text/plain": [
       "Image(value=b'\\x89PNG\\r\\n\\x1a\\n\\x00\\x00\\x00\\rIHDR\\x00\\x00\\x02X\\x00\\x00\\x02X\\x08\\x06\\x00\\x00\\x00\\xbef\\x98\\xdc\\x…"
      ]
     },
     "metadata": {},
     "output_type": "display_data"
    },
    {
     "data": {
      "application/vnd.jupyter.widget-view+json": {
       "model_id": "74dd0a146ef247afa0dcbf035dc8c2fb",
       "version_major": 2,
       "version_minor": 0
      },
      "text/plain": [
       "VBox(children=(ToggleButtons(options=('Choose gate', 'x', 'z', 'h'), value='Choose gate'), ToggleButtons(optio…"
      ]
     },
     "metadata": {},
     "output_type": "display_data"
    }
   ],
   "source": [
    "initialize = [['x','0']]\n",
    "success_condition = {'XX': 1.0}\n",
    "allowed_gates = {'0': {'x': 0, 'z': 0, 'h': 0}, '1': {'x': 0, 'z': 0, 'h': 0}, 'both': {}}\n",
    "vi = [[], True, True]\n",
    "qubit_names = {'0':'q[0]', '1':'q[1]'}\n",
    "puzzle = hello_quantum.run_game(initialize, success_condition, allowed_gates, vi, qubit_names)"
   ]
  },
  {
   "cell_type": "code",
   "execution_count": 20,
   "metadata": {},
   "outputs": [
    {
     "data": {
      "image/png": "[encoded data removed]",
      "text/plain": [
       "<Figure size 161.878x284.278 with 1 Axes>"
      ]
     },
     "execution_count": 20,
     "metadata": {},
     "output_type": "execute_result"
    }
   ],
   "source": [
    "puzzle.get_circuit().draw(output='mpl')"
   ]
  },
  {
   "cell_type": "code",
   "execution_count": 21,
   "metadata": {},
   "outputs": [
    {
     "data": {
      "application/vnd.jupyter.widget-view+json": {
       "model_id": "ee01e20e470047e1b7b99ec3084df862",
       "version_major": 2,
       "version_minor": 0
      },
      "text/plain": [
       "Image(value=b'\\x89PNG\\r\\n\\x1a\\n\\x00\\x00\\x00\\rIHDR\\x00\\x00\\x02X\\x00\\x00\\x02X\\x08\\x06\\x00\\x00\\x00\\xbef\\x98\\xdc\\x…"
      ]
     },
     "metadata": {},
     "output_type": "display_data"
    },
    {
     "data": {
      "application/vnd.jupyter.widget-view+json": {
       "model_id": "99a79ff8199342d9b53db4cfb144df0c",
       "version_major": 2,
       "version_minor": 0
      },
      "text/plain": [
       "VBox(children=(ToggleButtons(options=('Choose gate', 'x', 'z', 'h'), value='Choose gate'), ToggleButtons(optio…"
      ]
     },
     "metadata": {},
     "output_type": "display_data"
    }
   ],
   "source": [
    "initialize = []\n",
    "success_condition = {'XZ': -1.0}\n",
    "allowed_gates = {'0': {'x': 0, 'z': 0, 'h': 0}, '1': {'x': 0, 'z': 0, 'h': 0}, 'both': {}}\n",
    "vi = [[], True, True]\n",
    "qubit_names = {'0':'q[0]', '1':'q[1]'}\n",
    "puzzle = hello_quantum.run_game(initialize, success_condition, allowed_gates, vi, qubit_names)"
   ]
  },
  {
   "cell_type": "code",
   "execution_count": 22,
   "metadata": {},
   "outputs": [
    {
     "data": {
      "image/png": "[encoded data removed]",
      "text/plain": [
       "<Figure size 161.878x284.278 with 1 Axes>"
      ]
     },
     "execution_count": 22,
     "metadata": {},
     "output_type": "execute_result"
    }
   ],
   "source": [
    "puzzle.get_circuit().draw(output='mpl')"
   ]
  },
  {
   "cell_type": "code",
   "execution_count": 23,
   "metadata": {},
   "outputs": [
    {
     "data": {
      "application/vnd.jupyter.widget-view+json": {
       "model_id": "8870883d74a446608fe6c01a5a11e113",
       "version_major": 2,
       "version_minor": 0
      },
      "text/plain": [
       "Image(value=b'\\x89PNG\\r\\n\\x1a\\n\\x00\\x00\\x00\\rIHDR\\x00\\x00\\x02X\\x00\\x00\\x02X\\x08\\x06\\x00\\x00\\x00\\xbef\\x98\\xdc\\x…"
      ]
     },
     "metadata": {},
     "output_type": "display_data"
    },
    {
     "data": {
      "application/vnd.jupyter.widget-view+json": {
       "model_id": "88be90c5e2064957967b48705fd76e44",
       "version_major": 2,
       "version_minor": 0
      },
      "text/plain": [
       "VBox(children=(ToggleButtons(options=('Choose gate', 'x', 'z', 'h'), value='Choose gate'), ToggleButtons(optio…"
      ]
     },
     "metadata": {},
     "output_type": "display_data"
    }
   ],
   "source": [
    "initialize = []\n",
    "success_condition = {'XZ': -1.0}\n",
    "allowed_gates = {'0': {'x': 0, 'z': 0, 'h': 0}, '1': {'x': 0, 'z': 0, 'h': 0}, 'both': {}}\n",
    "vi = [[], True, True]\n",
    "qubit_names = {'0':'q[0]', '1':'q[1]'}\n",
    "puzzle = hello_quantum.run_game(initialize, success_condition, allowed_gates, vi, qubit_names)"
   ]
  },
  {
   "cell_type": "code",
   "execution_count": 24,
   "metadata": {},
   "outputs": [
    {
     "data": {
      "image/png": "[encoded data removed]",
      "text/plain": [
       "<Figure size 161.878x284.278 with 1 Axes>"
      ]
     },
     "execution_count": 24,
     "metadata": {},
     "output_type": "execute_result"
    }
   ],
   "source": [
    "puzzle.get_circuit().draw(output='mpl')"
   ]
  },
  {
   "cell_type": "code",
   "execution_count": 25,
   "metadata": {},
   "outputs": [
    {
     "data": {
      "application/vnd.jupyter.widget-view+json": {
       "model_id": "9a3aef283b65496386d187ea8f8e98c1",
       "version_major": 2,
       "version_minor": 0
      },
      "text/plain": [
       "Image(value=b'\\x89PNG\\r\\n\\x1a\\n\\x00\\x00\\x00\\rIHDR\\x00\\x00\\x02X\\x00\\x00\\x02X\\x08\\x06\\x00\\x00\\x00\\xbef\\x98\\xdc\\x…"
      ]
     },
     "metadata": {},
     "output_type": "display_data"
    },
    {
     "data": {
      "application/vnd.jupyter.widget-view+json": {
       "model_id": "33734cf9d75d4599b58cfaffd47264aa",
       "version_major": 2,
       "version_minor": 0
      },
      "text/plain": [
       "VBox(children=(ToggleButtons(options=('Choose gate', 'x'), value='Choose gate'), ToggleButtons(options=('',), …"
      ]
     },
     "metadata": {},
     "output_type": "display_data"
    }
   ],
   "source": [
    "initialize = [['ry(-pi/4)', '1'], ['ry(-pi/4)','0']]\n",
    "success_condition = {'ZI': -0.7071, 'IZ': -0.7071}\n",
    "allowed_gates = {'0': {'x': 0}, '1': {'x': 0}, 'both': {}}\n",
    "vi = [[], True, True]\n",
    "qubit_names = {'0':'q[0]', '1':'q[1]'}\n",
    "puzzle = hello_quantum.run_game(initialize, success_condition, allowed_gates, vi, qubit_names)"
   ]
  },
  {
   "cell_type": "code",
   "execution_count": 26,
   "metadata": {},
   "outputs": [
    {
     "data": {
      "image/png": "[encoded data removed]",
      "text/plain": [
       "<Figure size 161.878x284.278 with 1 Axes>"
      ]
     },
     "execution_count": 26,
     "metadata": {},
     "output_type": "execute_result"
    }
   ],
   "source": [
    "puzzle.get_circuit().draw(output='mpl')"
   ]
  },
  {
   "cell_type": "code",
   "execution_count": null,
   "metadata": {},
   "outputs": [],
   "source": []
  }
 ],
 "metadata": {
  "kernelspec": {
   "display_name": "Python 3",
   "language": "python",
   "name": "python3"
  },
  "language_info": {
   "codemirror_mode": {
    "name": "ipython",
    "version": 3
   },
   "file_extension": ".py",
   "mimetype": "text/x-python",
   "name": "python",
   "nbconvert_exporter": "python",
   "pygments_lexer": "ipython3",
   "version": "3.11.1"
  },
  "orig_nbformat": 4,
  "vscode": {
   "interpreter": {
    "hash": "ff4b1fca65a764b45acb559e482afe389d289dd599b9f8c5fd12ff5c2ea46a65"
   }
  }
 },
 "nbformat": 4,
 "nbformat_minor": 2
}
